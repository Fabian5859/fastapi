{
 "cells": [
  {
   "cell_type": "code",
   "execution_count": 1,
   "id": "ff521fbc-d4cf-4364-83eb-3bbe7c61b789",
   "metadata": {},
   "outputs": [],
   "source": [
    "import pandas as pd\n",
    "import json"
   ]
  },
  {
   "cell_type": "code",
   "execution_count": 2,
   "id": "65c2bf0a-6f16-4e89-88db-31f70762f449",
   "metadata": {},
   "outputs": [],
   "source": [
    "#1.Leer el CSV\n",
    "df = pd.read_csv(\"../Dataset/movies_dataset.csv\", delimiter=',', encoding='utf-8',low_memory=False)"
   ]
  },
  {
   "cell_type": "markdown",
   "id": "42f04a8b-770d-4cda-8f3a-3bc0872d48e4",
   "metadata": {},
   "source": [
    "# Desanidado"
   ]
  },
  {
   "cell_type": "code",
   "execution_count": 3,
   "id": "9da1444e-9fc2-4d17-9c61-9d1913f744e8",
   "metadata": {},
   "outputs": [],
   "source": [
    "def parse_json(x):\n",
    "    \"\"\"\n",
    "    Convierte una cadena JSON en un objeto Python (diccionario o lista).\n",
    "    Maneja valores NaN o valores no cadenas con un manejo de errores básico.\n",
    "    \n",
    "    Parámetros:\n",
    "    x (str): Cadena JSON a convertir.\n",
    "    \n",
    "    Retorna:\n",
    "    dict, list o empty list: Objeto Python deserializado, o una lista vacía si hay un error o no es una cadena.\n",
    "    \"\"\"\n",
    "    if pd.isna(x):  # Manejar valores NaN\n",
    "        return {}    \n",
    "    if isinstance(x, str):  # Solo intentar convertir si x es una cadena\n",
    "        try:\n",
    "            # Reemplaza comillas simples por dobles para JSON válido\n",
    "            x = x.replace(\"'\", '\"')\n",
    "            parsed = json.loads(x)\n",
    "            if isinstance(parsed, (dict, list)):\n",
    "                return parsed\n",
    "        except json.JSONDecodeError:\n",
    "            pass\n",
    "    return {}  # Retornar un diccionario vacío si es NaN o no es una cadena \n",
    "        # [] Retorna una lista vacía para valores no cadenas (NaN, None, números)"
   ]
  },
  {
   "cell_type": "code",
   "execution_count": 4,
   "id": "e496c57d-23c8-4ffc-ba61-97068ba344a3",
   "metadata": {},
   "outputs": [],
   "source": [
    "def desanidar_columna(df, columna):\n",
    "    \"\"\"\n",
    "    Desanida una columna de un DataFrame que contiene diccionarios o listas de diccionarios.\n",
    "    \n",
    "    Parámetros:\n",
    "    df (pd.DataFrame): El DataFrame que contiene la columna a desanidar.\n",
    "    columna (str): El nombre de la columna que contiene los datos anidados.\n",
    "    \n",
    "    Retorna:\n",
    "    pd.DataFrame: El DataFrame con la columna desanidada.\n",
    "    \"\"\"\n",
    "    if columna not in df.columns:\n",
    "        print(f\"Columna '{columna}' no encontrada en el DataFrame.\")\n",
    "        return df\n",
    "    \n",
    "    try:\n",
    "        # Aplicamos la función parse_json para asegurarnos de que los datos estén en formato de diccionario o lista\n",
    "        df[columna] = df[columna].apply(parse_json)\n",
    "        \n",
    "        if isinstance(df[columna].iloc[0], list):\n",
    "            # Desanidamos la columna si es una lista de diccionarios\n",
    "            df_exploded = df.explode(columna).reset_index(drop=True)\n",
    "            df_expanded = pd.json_normalize(df_exploded[columna])\n",
    "            df_expanded.columns = [f\"{columna}_{col}\" for col in df_expanded.columns]\n",
    "        elif isinstance(df[columna].iloc[0], dict):\n",
    "            # Expandimos los diccionarios si no es una lista\n",
    "            df_expanded = pd.json_normalize(df[columna])\n",
    "            df_expanded.columns = [f\"{columna}_{col}\" for col in df_expanded.columns]\n",
    "        else:\n",
    "            # Si no es ni lista ni diccionario, retornamos el DataFrame sin cambios\n",
    "            print(f\"La columna '{columna}' no contiene datos válidos para desanidar.\")\n",
    "            return df\n",
    "        \n",
    "        # Concatenamos las nuevas columnas al DataFrame original (sin duplicar la columna original desanidada)\n",
    "        df_final = pd.concat([df.drop(columns=[columna]), df_expanded], axis=1)\n",
    "        #df_final = pd.concat([df.drop(columns=[columna]), df_expanded], axis=1, join='inner')\n",
    "        return df_final\n",
    "    except Exception as e:\n",
    "        print(f\"Error al desanidar la columna '{columna}': {e}\")\n",
    "        return df\n",
    "    \n",
    "        "
   ]
  },
  {
   "cell_type": "code",
   "execution_count": 7,
   "id": "2d57fee1-7b3a-4f51-a849-1f209014c4bd",
   "metadata": {},
   "outputs": [
    {
     "name": "stdout",
     "output_type": "stream",
     "text": [
      "Columna 'belongs_to_collection' no encontrada en el DataFrame.\n",
      "Columna 'genres' no encontrada en el DataFrame.\n",
      "Columna 'production_companies' no encontrada en el DataFrame.\n",
      "Columna 'production_countries' no encontrada en el DataFrame.\n",
      "Columna 'spoken_languages' no encontrada en el DataFrame.\n"
     ]
    }
   ],
   "source": [
    "#2. Desanidar los datos\n",
    "\n",
    "# Lista de columnas que contienen datos JSON\n",
    "columnas_json = [\n",
    "    'belongs_to_collection',\n",
    "    'genres',\n",
    "    'production_companies',\n",
    "    'production_countries',\n",
    "    'spoken_languages'    \n",
    "]\n",
    "\n",
    "# Desanidar las columnas\n",
    "for columna in columnas_json:\n",
    "    df = desanidar_columna(df, columna)\n",
    "\n"
   ]
  },
  {
   "cell_type": "code",
   "execution_count": 8,
   "id": "233f40d0-7d98-4436-b60b-b348c70eb3d0",
   "metadata": {},
   "outputs": [
    {
     "name": "stdout",
     "output_type": "stream",
     "text": [
      "(150807, 31)\n"
     ]
    }
   ],
   "source": [
    "print(df.shape)"
   ]
  },
  {
   "cell_type": "code",
   "execution_count": 9,
   "id": "d0ee3bb9-dcc4-4bd2-878d-517af86900d3",
   "metadata": {},
   "outputs": [
    {
     "name": "stdout",
     "output_type": "stream",
     "text": [
      "['adult', 'budget', 'homepage', 'id', 'imdb_id', 'original_language', 'original_title', 'overview', 'popularity', 'poster_path', 'release_date', 'revenue', 'runtime', 'status', 'tagline', 'title', 'video', 'vote_average', 'vote_count', 'belongs_to_collection_id', 'belongs_to_collection_name', 'belongs_to_collection_poster_path', 'belongs_to_collection_backdrop_path', 'genres_id', 'genres_name', 'production_companies_name', 'production_companies_id', 'production_countries_iso_3166_1', 'production_countries_name', 'spoken_languages_iso_639_1', 'spoken_languages_name']\n"
     ]
    }
   ],
   "source": [
    "print(df.columns.tolist())"
   ]
  },
  {
   "cell_type": "code",
   "execution_count": 10,
   "id": "bd905e98-d91b-4199-976b-5b5da5d91c00",
   "metadata": {},
   "outputs": [
    {
     "name": "stdout",
     "output_type": "stream",
     "text": [
      "0    373554033.0\n",
      "1    262797249.0\n",
      "2            0.0\n",
      "3     81452156.0\n",
      "4     76578911.0\n",
      "Name: revenue, dtype: float64\n"
     ]
    }
   ],
   "source": [
    "print(df['revenue'].head())"
   ]
  },
  {
   "cell_type": "markdown",
   "id": "035d3e8e-3cb9-4af1-9131-55581429b017",
   "metadata": {},
   "source": [
    "# Transformaciones"
   ]
  },
  {
   "cell_type": "markdown",
   "id": "006cd0ea-f694-4d4c-b888-a5307ee09d65",
   "metadata": {},
   "source": [
    "### Los valores nulos de los campos 'revenue', 'budget' deben ser rellenados por el número 0"
   ]
  },
  {
   "cell_type": "code",
   "execution_count": 11,
   "id": "d3352e02-0261-4543-97fa-e6736017892d",
   "metadata": {},
   "outputs": [
    {
     "name": "stdout",
     "output_type": "stream",
     "text": [
      "Valores nulos en 'revenue': 105347\n",
      "Valores nulos en 'budget': 105341\n"
     ]
    }
   ],
   "source": [
    "# Contar los valores nulos en las columnas 'revenue' y 'budget'\n",
    "nulos_revenue = df['revenue'].isnull().sum()\n",
    "nulos_budget = df['budget'].isnull().sum()\n",
    "\n",
    "print(f\"Valores nulos en 'revenue': {nulos_revenue}\")\n",
    "print(f\"Valores nulos en 'budget': {nulos_budget}\")"
   ]
  },
  {
   "cell_type": "code",
   "execution_count": 12,
   "id": "ce0db515-66e8-4253-b52a-8a0be91b2175",
   "metadata": {},
   "outputs": [
    {
     "name": "stdout",
     "output_type": "stream",
     "text": [
      "revenue    0\n",
      "budget     0\n",
      "dtype: int64\n"
     ]
    }
   ],
   "source": [
    "df['revenue'] = df['revenue'].fillna(0)\n",
    "df['budget'] = df['budget'].fillna(0)\n",
    "\n",
    "# Verificar si quedan valores nulos en estas columnas\n",
    "print(df[['revenue', 'budget']].isnull().sum())"
   ]
  },
  {
   "cell_type": "markdown",
   "id": "9c97169b-cd67-4e48-a9bf-2b2e302d1e31",
   "metadata": {},
   "source": [
    "### Los valores nulos del campo 'release_date' deben eliminarse."
   ]
  },
  {
   "cell_type": "code",
   "execution_count": 13,
   "id": "bb30abf3-75e2-4eec-b74c-e1e33df459f8",
   "metadata": {},
   "outputs": [
    {
     "name": "stdout",
     "output_type": "stream",
     "text": [
      "Valores nulos en 'release_date' antes de eliminar: 105428\n",
      "Total de registros antes de eliminar: 150807\n"
     ]
    }
   ],
   "source": [
    "# Contar los valores nulos en la columna 'release_date' antes de la transformación\n",
    "nulos_release_date_antes = df['release_date'].isnull().sum()\n",
    "\n",
    "# Contar el número de registros antes de la eliminación\n",
    "registros_antes = len(df)\n",
    "\n",
    "print(f\"Valores nulos en 'release_date' antes de eliminar: {nulos_release_date_antes}\")\n",
    "print(f\"Total de registros antes de eliminar: {registros_antes}\")\n"
   ]
  },
  {
   "cell_type": "code",
   "execution_count": 14,
   "id": "8619ae96-79a5-42b8-8617-51c27ff5ebfa",
   "metadata": {},
   "outputs": [],
   "source": [
    "# Eliminar filas con valores nulos en la columna 'release_date'\n",
    "df = df.dropna(subset=['release_date'])"
   ]
  },
  {
   "cell_type": "code",
   "execution_count": 15,
   "id": "631e9bf7-031e-4c6b-9da5-25bab62e370a",
   "metadata": {},
   "outputs": [
    {
     "name": "stdout",
     "output_type": "stream",
     "text": [
      "Valores nulos en 'release_date' después de eliminar: 0\n",
      "Total de registros después de eliminar: 45379\n"
     ]
    }
   ],
   "source": [
    "# Contar los valores nulos en la columna 'release_date' después de la transformación\n",
    "nulos_release_date_despues = df['release_date'].isnull().sum()\n",
    "\n",
    "# Contar el número de registros después de la eliminación\n",
    "registros_despues = len(df)\n",
    "\n",
    "print(f\"Valores nulos en 'release_date' después de eliminar: {nulos_release_date_despues}\")\n",
    "print(f\"Total de registros después de eliminar: {registros_despues}\")"
   ]
  },
  {
   "cell_type": "markdown",
   "id": "3e416dcf-0736-4fe5-80a5-3e04f86ad5e2",
   "metadata": {},
   "source": [
    "### De haber fechas, deberán tener el formato AAAA-mm-dd, además deberán crear la columna release_year donde extraerán el año de la fecha de estreno."
   ]
  },
  {
   "cell_type": "code",
   "execution_count": 16,
   "id": "81e98bfa-03b8-41a3-80bc-cc6739c66075",
   "metadata": {},
   "outputs": [
    {
     "name": "stdout",
     "output_type": "stream",
     "text": [
      "Antes de la conversión:\n",
      "0    1995-10-30\n",
      "1    1995-12-15\n",
      "2    1995-12-22\n",
      "3    1995-12-22\n",
      "4    1995-02-10\n",
      "Name: release_date, dtype: object\n",
      "Después de la conversión:\n",
      "0   1995-10-30\n",
      "1   1995-12-15\n",
      "2   1995-12-22\n",
      "3   1995-12-22\n",
      "4   1995-02-10\n",
      "Name: release_date, dtype: datetime64[ns]\n"
     ]
    }
   ],
   "source": [
    "# Convertir la columna 'release_date' a formato datetime, manejando errores\n",
    "print(\"Antes de la conversión:\")\n",
    "print(df['release_date'].head())\n",
    "\n",
    "df['release_date'] = pd.to_datetime(df['release_date'], format='%Y-%m-%d', errors='coerce')\n",
    "\n",
    "# Verificar las primeras filas de la columna 'release_date' para confirmar la conversión\n",
    "print(\"Después de la conversión:\")\n",
    "print(df['release_date'].head())"
   ]
  },
  {
   "cell_type": "code",
   "execution_count": 17,
   "id": "17797921-a0dc-4c04-9925-6d74c6f0c1bf",
   "metadata": {},
   "outputs": [
    {
     "name": "stdout",
     "output_type": "stream",
     "text": [
      "Valores nulos en 'release_date' antes de la conversión: 3\n",
      "Valores nulos en 'release_year' después de la conversión: 0\n",
      "  release_date  release_year\n",
      "0   1995-10-30          1995\n",
      "1   1995-12-15          1995\n",
      "2   1995-12-22          1995\n",
      "3   1995-12-22          1995\n",
      "4   1995-02-10          1995\n"
     ]
    }
   ],
   "source": [
    "# Contar los valores nulos en la columna 'release_date' antes de la conversión\n",
    "nulos_release_date_antes = df['release_date'].isnull().sum()\n",
    "print(f\"Valores nulos en 'release_date' antes de la conversión: {nulos_release_date_antes}\")\n",
    "\n",
    "# Crear una nueva columna 'release_year' que contenga solo el año de 'release_date'\n",
    "df['release_year'] = df['release_date'].dt.year\n",
    "\n",
    "# Convertir 'release_year' a entero, manejando los NaN (valores nulos)\n",
    "df['release_year'] = df['release_year'].fillna(0).astype(int)\n",
    "\n",
    "# Contar los valores nulos en la columna 'release_year' después de la conversión\n",
    "nulos_release_year_despues = df['release_year'].isnull().sum()\n",
    "\n",
    "# Mostrar los valores nulos en la columna 'release_year' después de la conversión\n",
    "print(f\"Valores nulos en 'release_year' después de la conversión: {nulos_release_year_despues}\")\n",
    "\n",
    "# Verificar las primeras filas de la nueva columna 'release_year'\n",
    "print(df[['release_date', 'release_year']].head())"
   ]
  },
  {
   "cell_type": "markdown",
   "id": "f197ea6c-3041-4739-a5b3-c08a46ccafe2",
   "metadata": {},
   "source": [
    "### Crear la columna con el retorno de inversión, llamada return con los campos revenue y budget, dividiendo estas dos últimas revenue / budget, cuando no hay datos disponibles para calcularlo, deberá tomar el valor 0."
   ]
  },
  {
   "cell_type": "code",
   "execution_count": 18,
   "id": "55bb3c9b-7736-48e1-b3ca-468a82669494",
   "metadata": {},
   "outputs": [],
   "source": [
    "df['revenue'] = pd.to_numeric(df['revenue'], errors='coerce')\n",
    "df['budget'] = pd.to_numeric(df['budget'], errors='coerce')\n",
    "\n",
    "# Verificar los tipos de datos para confirmar la conversión\n",
    "#print(df.dtypes)"
   ]
  },
  {
   "cell_type": "code",
   "execution_count": 19,
   "id": "263eb04a-71fe-4dfc-aa10-7fce3ab6e6ec",
   "metadata": {},
   "outputs": [
    {
     "name": "stdout",
     "output_type": "stream",
     "text": [
      "       revenue      budget     return\n",
      "0  373554033.0  30000000.0  12.451801\n",
      "1  262797249.0  65000000.0   4.043035\n",
      "2          0.0         0.0   0.000000\n",
      "3   81452156.0  16000000.0   5.090760\n",
      "4   76578911.0         0.0   0.000000\n"
     ]
    }
   ],
   "source": [
    "df['return'] = df.apply(lambda row: row['revenue'] / row['budget'] if row['budget'] > 0 else 0, axis=1)\n",
    "print(df[['revenue', 'budget', 'return']].head())"
   ]
  },
  {
   "cell_type": "markdown",
   "id": "8cd36d0a-5afb-4742-a6d7-2dd1befbc608",
   "metadata": {},
   "source": [
    "### Eliminar las columnas que no serán utilizadas, video,imdb_id,adult,original_title,poster_path y homepage."
   ]
  },
  {
   "cell_type": "code",
   "execution_count": 20,
   "id": "dc8ff8e6-37c8-4b2f-8999-92d89a15fc8c",
   "metadata": {},
   "outputs": [
    {
     "name": "stdout",
     "output_type": "stream",
     "text": [
      "Número de columnas antes de eliminar: 33\n",
      "Número de columnas después de eliminar: 27\n"
     ]
    }
   ],
   "source": [
    "columnas_antes = len(df.columns)\n",
    "print(f\"Número de columnas antes de eliminar: {columnas_antes}\")\n",
    "\n",
    "# Eliminar las columnas no deseadas\n",
    "columnas_a_eliminar = ['video', 'imdb_id', 'adult', 'original_title', 'poster_path', 'homepage']\n",
    "df = df.drop(columns=columnas_a_eliminar)\n",
    "\n",
    "columnas_despues = len(df.columns)\n",
    "print(f\"Número de columnas después de eliminar: {columnas_despues}\")"
   ]
  },
  {
   "cell_type": "code",
   "execution_count": 21,
   "id": "86bdab1a-0dcf-4085-8622-14a05098721d",
   "metadata": {},
   "outputs": [
    {
     "name": "stdout",
     "output_type": "stream",
     "text": [
      "['budget', 'id', 'original_language', 'overview', 'popularity', 'release_date', 'revenue', 'runtime', 'status', 'tagline', 'title', 'vote_average', 'vote_count', 'belongs_to_collection_id', 'belongs_to_collection_name', 'belongs_to_collection_poster_path', 'belongs_to_collection_backdrop_path', 'genres_id', 'genres_name', 'production_companies_name', 'production_companies_id', 'production_countries_iso_3166_1', 'production_countries_name', 'spoken_languages_iso_639_1', 'spoken_languages_name', 'release_year', 'return']\n"
     ]
    }
   ],
   "source": [
    "print(df.columns.tolist())"
   ]
  },
  {
   "cell_type": "markdown",
   "id": "f4efac11-ba80-4bc7-b43b-b5286d39fc93",
   "metadata": {},
   "source": [
    "# Almacenamiento en formato parquet"
   ]
  },
  {
   "cell_type": "code",
   "execution_count": 23,
   "id": "748b0ad9-df09-484d-9856-38a07e0d8217",
   "metadata": {},
   "outputs": [
    {
     "name": "stdout",
     "output_type": "stream",
     "text": [
      "El DataFrame ha sido guardado en formato Parquet exitosamente.\n"
     ]
    }
   ],
   "source": [
    "try:\n",
    "    # Guardar el DataFrame en formato Parquet usando pyarrow\n",
    "    df.to_parquet(\"../Dataset/movies_dataset.parquet\", engine='pyarrow')\n",
    "    print(\"El DataFrame ha sido guardado en formato Parquet exitosamente.\")\n",
    "except Exception as e:\n",
    "    # Manejar cualquier excepción que ocurra durante la operación\n",
    "    print(f\"Ocurrió un error al intentar guardar el DataFrame en formato Parquet: {e}\")"
   ]
  },
  {
   "cell_type": "code",
   "execution_count": null,
   "id": "20b71d08-a11a-4036-8d8a-f8aa957ee9c1",
   "metadata": {},
   "outputs": [],
   "source": []
  }
 ],
 "metadata": {
  "kernelspec": {
   "display_name": "Python 3 (ipykernel)",
   "language": "python",
   "name": "python3"
  },
  "language_info": {
   "codemirror_mode": {
    "name": "ipython",
    "version": 3
   },
   "file_extension": ".py",
   "mimetype": "text/x-python",
   "name": "python",
   "nbconvert_exporter": "python",
   "pygments_lexer": "ipython3",
   "version": "3.10.14"
  }
 },
 "nbformat": 4,
 "nbformat_minor": 5
}
